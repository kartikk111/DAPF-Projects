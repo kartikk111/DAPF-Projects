{
 "cells": [
  {
   "cell_type": "code",
   "execution_count": null,
   "id": "83dabff7",
   "metadata": {},
   "outputs": [],
   "source": [
    "import pandas as pd"
   ]
  },
  {
   "cell_type": "code",
   "execution_count": null,
   "id": "4f737e7e",
   "metadata": {},
   "outputs": [],
   "source": [
    "# The \"value\" of a word is computed by first assigning a value to each character (in order):\n",
    "\n",
    "# a - 1\n",
    "# b - 2\n",
    "# c - 3\n",
    "# d - 4\n",
    "# ...\n",
    "# And then just adding up the values for the characters in a word. So, for example, the value of the word cab is 6. For dog is 26. For panda it's 36."
   ]
  },
  {
   "cell_type": "code",
   "execution_count": null,
   "id": "6a00bdcf",
   "metadata": {},
   "outputs": [],
   "source": [
    "df = pd.read_csv('words.csv', index_col = 'Word')\n"
   ]
  },
  {
   "cell_type": "code",
   "execution_count": null,
   "id": "c4f3a937",
   "metadata": {},
   "outputs": [],
   "source": [
    "df.head()"
   ]
  },
  {
   "cell_type": "code",
   "execution_count": null,
   "id": "2534bb05",
   "metadata": {},
   "outputs": [],
   "source": [
    "df.loc[\"castle\"]"
   ]
  },
  {
   "cell_type": "code",
   "execution_count": null,
   "id": "1836b1fb",
   "metadata": {},
   "outputs": [],
   "source": [
    "df.loc[\"microphone\"]"
   ]
  },
  {
   "cell_type": "code",
   "execution_count": null,
   "id": "fb5d6bb3",
   "metadata": {},
   "outputs": [],
   "source": [
    "df['Value'].max()\n"
   ]
  },
  {
   "cell_type": "code",
   "execution_count": null,
   "id": "9e6f27fd",
   "metadata": {},
   "outputs": [],
   "source": [
    "df.max()"
   ]
  },
  {
   "cell_type": "code",
   "execution_count": null,
   "id": "3549249d",
   "metadata": {},
   "outputs": [],
   "source": [
    "df.describe()"
   ]
  },
  {
   "cell_type": "code",
   "execution_count": null,
   "id": "ea472079",
   "metadata": {},
   "outputs": [],
   "source": [
    "df.sort_values(by= ['Value'], ascending = False )"
   ]
  },
  {
   "cell_type": "code",
   "execution_count": null,
   "id": "c646032c",
   "metadata": {},
   "outputs": [],
   "source": [
    "pd.set_option('display.max_rows', 1000)"
   ]
  },
  {
   "cell_type": "code",
   "execution_count": null,
   "id": "6f05a411",
   "metadata": {},
   "outputs": [],
   "source": [
    "df.sort_values(by= ['Value'], ascending = False)"
   ]
  },
  {
   "cell_type": "code",
   "execution_count": null,
   "id": "c4e5f897",
   "metadata": {},
   "outputs": [],
   "source": [
    "df.loc[df['Value'] == 200]"
   ]
  },
  {
   "cell_type": "code",
   "execution_count": null,
   "id": "2bf40c49",
   "metadata": {},
   "outputs": [],
   "source": [
    "df['Value'].describe()"
   ]
  },
  {
   "cell_type": "code",
   "execution_count": null,
   "id": "248c611b",
   "metadata": {},
   "outputs": [],
   "source": [
    "df['Value'].mode()"
   ]
  },
  {
   "cell_type": "code",
   "execution_count": null,
   "id": "b4f8fcba",
   "metadata": {},
   "outputs": [],
   "source": [
    "df['Value'].value_counts().head()"
   ]
  },
  {
   "cell_type": "code",
   "execution_count": null,
   "id": "5acda008",
   "metadata": {},
   "outputs": [],
   "source": [
    "df.loc[df['Value'] == 95].sample(20)\n",
    "# .sample() for random values"
   ]
  },
  {
   "cell_type": "code",
   "execution_count": null,
   "id": "68149c30",
   "metadata": {},
   "outputs": [],
   "source": [
    "df.loc[df['Value'] == 274].sort_values(by = \"Character Count\")"
   ]
  },
  {
   "cell_type": "code",
   "execution_count": null,
   "id": "4f22668a",
   "metadata": {},
   "outputs": [],
   "source": [
    "df.loc[df['Value'] == 274, 'Character Count'].min()"
   ]
  },
  {
   "cell_type": "code",
   "execution_count": null,
   "id": "9ff2244d",
   "metadata": {},
   "outputs": [],
   "source": [
    "df.loc[(df['Value'] == 274) & (df['Character Count'] == df.loc[df['Value'] == 274, 'Character Count'].min())]"
   ]
  },
  {
   "cell_type": "code",
   "execution_count": null,
   "id": "78af7d1c",
   "metadata": {},
   "outputs": [],
   "source": [
    "df['Ratio'] = df['Value'] / df['Character Count']\n",
    "df.head()"
   ]
  },
  {
   "cell_type": "code",
   "execution_count": null,
   "id": "d34038e0",
   "metadata": {},
   "outputs": [],
   "source": [
    "df.sort_values(by = 'Ratio', ascending = False)"
   ]
  },
  {
   "cell_type": "code",
   "execution_count": null,
   "id": "8cc64b24",
   "metadata": {},
   "outputs": [],
   "source": [
    "df.loc[df['Ratio'] == 10]"
   ]
  },
  {
   "cell_type": "code",
   "execution_count": null,
   "id": "ea89b22a",
   "metadata": {},
   "outputs": [],
   "source": [
    "df.query(\"Ratio == 10\")"
   ]
  },
  {
   "cell_type": "code",
   "execution_count": null,
   "id": "dc5f2ccd",
   "metadata": {},
   "outputs": [],
   "source": [
    "df.loc[df['Ratio'] == 10].sort_values(by = 'Value', ascending = False)"
   ]
  },
  {
   "cell_type": "code",
   "execution_count": null,
   "id": "ab890c0c",
   "metadata": {},
   "outputs": [],
   "source": [
    "df.loc[df['Ratio'] == 10, 'Value'].max()"
   ]
  },
  {
   "cell_type": "code",
   "execution_count": null,
   "id": "84eb95ed",
   "metadata": {},
   "outputs": [],
   "source": [
    "df.loc[df['Value'] == 260, 'Character Count'].min()"
   ]
  },
  {
   "cell_type": "code",
   "execution_count": null,
   "id": "ab93d78a",
   "metadata": {},
   "outputs": [],
   "source": [
    "df.loc[df['Value'] == 260].sort_values(by = \"Character Count\", ascending = True)"
   ]
  },
  {
   "cell_type": "code",
   "execution_count": null,
   "id": "107120e3",
   "metadata": {},
   "outputs": [],
   "source": []
  }
 ],
 "metadata": {
  "kernelspec": {
   "display_name": "Python 3 (ipykernel)",
   "language": "python",
   "name": "python3"
  },
  "language_info": {
   "codemirror_mode": {
    "name": "ipython",
    "version": 3
   },
   "file_extension": ".py",
   "mimetype": "text/x-python",
   "name": "python",
   "nbconvert_exporter": "python",
   "pygments_lexer": "ipython3",
   "version": "3.11.7"
  }
 },
 "nbformat": 4,
 "nbformat_minor": 5
}
